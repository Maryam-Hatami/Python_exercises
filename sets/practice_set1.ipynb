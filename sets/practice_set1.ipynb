{
 "cells": [
  {
   "cell_type": "markdown",
   "metadata": {},
   "source": [
    "**Exercise 1:** Set Creation and Membership\n",
    "Create a set named `colors` that contains the colors 'red', 'green', 'blue', and 'yellow'. Verify if 'purple' is in the `colors` set. Add 'purple' to the set and check again."
   ]
  },
  {
   "cell_type": "code",
   "execution_count": 2,
   "metadata": {},
   "outputs": [
    {
     "data": {
      "text/plain": [
       "False"
      ]
     },
     "execution_count": 2,
     "metadata": {},
     "output_type": "execute_result"
    }
   ],
   "source": [
    "colors = {'red', 'green', 'blue', 'yellow'}\n",
    "'purple' in colors"
   ]
  },
  {
   "cell_type": "code",
   "execution_count": 5,
   "metadata": {},
   "outputs": [
    {
     "data": {
      "text/plain": [
       "True"
      ]
     },
     "execution_count": 5,
     "metadata": {},
     "output_type": "execute_result"
    }
   ],
   "source": [
    "colors.add('purple')\n",
    "'purple' in colors"
   ]
  },
  {
   "cell_type": "markdown",
   "metadata": {},
   "source": [
    "**Exercise 2:** Unique Elements\n",
    "Given the list `numbers_list = [1, 2, 3, 4, 3, 2, 1, 5, 6, 5, 4]`, create a set named `unique_numbers` from this list. Determine how many unique numbers are in `numbers_list` by checking the size of `unique_numbers`."
   ]
  },
  {
   "cell_type": "code",
   "execution_count": 7,
   "metadata": {},
   "outputs": [
    {
     "data": {
      "text/plain": [
       "6"
      ]
     },
     "execution_count": 7,
     "metadata": {},
     "output_type": "execute_result"
    }
   ],
   "source": [
    "numbers_list = [1, 2, 3, 4, 3, 2, 1, 5, 6, 5, 4]\n",
    "unique_numbers = set(numbers_list)\n",
    "len(unique_numbers)"
   ]
  },
  {
   "cell_type": "markdown",
   "metadata": {},
   "source": [
    "**Exercise 3:** Adding Multiple Elements\n",
    "You have a set `flavors` containing 'chocolate', 'vanilla', and 'strawberry'. Update `flavors` to include 'mint' and 'bubble gum' using a single command."
   ]
  },
  {
   "cell_type": "code",
   "execution_count": 8,
   "metadata": {},
   "outputs": [
    {
     "data": {
      "text/plain": [
       "{'bubble gum', 'chocolate', 'mint', 'straberry', 'vanilla'}"
      ]
     },
     "execution_count": 8,
     "metadata": {},
     "output_type": "execute_result"
    }
   ],
   "source": [
    "flavors = {'chocolate', 'vanilla', 'straberry'}\n",
    "flavors.update({'mint', 'bubble gum'})\n",
    "flavors"
   ]
  },
  {
   "cell_type": "markdown",
   "metadata": {},
   "source": [
    "**Exercise 4:** Removing Elements\n",
    "There is a set `tools` with elements 'hammer', 'wrench', 'screwdriver', and 'pliers'. Remove 'wrench' from `tools` using `.remove()`. Then, using `.discard()`, attempt to remove 'saw' from `tools`."
   ]
  },
  {
   "cell_type": "code",
   "execution_count": 10,
   "metadata": {},
   "outputs": [
    {
     "data": {
      "text/plain": [
       "{'hammer', 'pliers', 'screwdriver'}"
      ]
     },
     "execution_count": 10,
     "metadata": {},
     "output_type": "execute_result"
    }
   ],
   "source": [
    "tools  = {'hammer', 'wrench', 'screwdriver', 'pliers'}\n",
    "tools.remove('wrench')\n",
    "tools"
   ]
  },
  {
   "cell_type": "code",
   "execution_count": 12,
   "metadata": {},
   "outputs": [],
   "source": [
    "tools.discard(\"saw\") \n",
    "#we don't have saw in tools so this command won't do anythig"
   ]
  },
  {
   "cell_type": "markdown",
   "metadata": {},
   "source": [
    "**Exercise 5:** Safe Element Removal\n",
    "Create a set `planets` including 'earth', 'jupiter', and 'mars'. Safely remove 'venus' from the set `planets` using a method that will not raise an error even if the item does not exist."
   ]
  },
  {
   "cell_type": "code",
   "execution_count": 13,
   "metadata": {},
   "outputs": [],
   "source": [
    "plants = {'earth', 'jupyter', 'mars'}\n",
    "plants.discard('venus')"
   ]
  },
  {
   "cell_type": "markdown",
   "metadata": {},
   "source": [
    "**Exercise 6:** Clearing a Set\n",
    "Take the `planets` set and clear all of its elements, ensuring that it is emptied completely."
   ]
  },
  {
   "cell_type": "code",
   "execution_count": 14,
   "metadata": {},
   "outputs": [],
   "source": [
    "plants.clear()"
   ]
  },
  {
   "cell_type": "code",
   "execution_count": 15,
   "metadata": {},
   "outputs": [
    {
     "data": {
      "text/plain": [
       "set()"
      ]
     },
     "execution_count": 15,
     "metadata": {},
     "output_type": "execute_result"
    }
   ],
   "source": [
    "plants"
   ]
  }
 ],
 "metadata": {
  "kernelspec": {
   "display_name": "pyto23",
   "language": "python",
   "name": "python3"
  },
  "language_info": {
   "codemirror_mode": {
    "name": "ipython",
    "version": 3
   },
   "file_extension": ".py",
   "mimetype": "text/x-python",
   "name": "python",
   "nbconvert_exporter": "python",
   "pygments_lexer": "ipython3",
   "version": "3.11.5"
  }
 },
 "nbformat": 4,
 "nbformat_minor": 2
}
